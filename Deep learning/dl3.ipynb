{
 "cells": [
  {
   "cell_type": "markdown",
   "metadata": {},
   "source": [
    "q3) 1 Use gradient descent with constant step size to minimize f(x, y). Show\n",
    "contour plot of the function. After every update, using arrow show the\n",
    "movement in the contour plots. Do it till convergence."
   ]
  },
  {
   "cell_type": "code",
   "execution_count": 1,
   "metadata": {},
   "outputs": [
    {
     "data": {
      "image/png": "[encoded data removed]",
      "text/plain": [
       "<Figure size 432x288 with 1 Axes>"
      ]
     },
     "metadata": {
      "needs_background": "light"
     },
     "output_type": "display_data"
    }
   ],
   "source": [
    "import numpy as np\n",
    "import matplotlib.pyplot as plt\n",
    "\n",
    "n_x = 0.003\n",
    "n_y = 0.003\n",
    "def func(x,y):\n",
    "    a = x**2\n",
    "    b = 100*(y-x**2)**2\n",
    "    return a+b\n",
    "\n",
    "def grad_desc(x,y):\n",
    "    a = (150*(x**2+y**2)**2 - 209*(x**2+y**2)+59)\n",
    "    return a*(2*x)/9\n",
    "\n",
    "def grad_descy(x,y):\n",
    "    b =  (150*(x**2+y**2)**2 - 209*(x**2+y**2)+59)\n",
    "    return b*(2*y)/9\n",
    "\n",
    "x = np.random.rand()\n",
    "y = np.random.rand()\n",
    "valx = []\n",
    "valy = []\n",
    "\n",
    "i = 0\n",
    "for i in range(0,2000):\n",
    "  a = x\n",
    "  x = x-n_x*grad_desc(x,y)\n",
    "  b = y\n",
    "  y = y-n_y*grad_descy(x,y)\n",
    "  i = i+1\n",
    "  if(a == x):\n",
    "     n_x = 0.1*n_x\n",
    "  if(b == y):\n",
    "     n_y = 0.5*n_y\n",
    "  \n",
    "  \n",
    "  \n",
    "  if(x < 0.001 and y <0.001):\n",
    "        break\n",
    "  \n",
    "  plt.arrow(a, b, x-a,y-b, ec ='red', width = 0.1,head_width = 0.1)\n",
    "\n",
    " \n",
    "\n",
    "meshx = np.linspace(-4, 4.0, 100)\n",
    "meshy = np.linspace(-4, 4.0, 100)\n",
    "  \n",
    "\n",
    "[FX, FY] = np.meshgrid(meshx, meshy)\n",
    "  \n",
    "\n",
    "FIN = (50*(FX**2 + FY**2)**3)/9 - (209*(FX**2 + FY**2)**2)/18 +59*(FX**2 + FY**2)/9\n",
    "  \n",
    "plt.contour(FX,FY,FIN,cmap='ocean')\n",
    "\n",
    "plt.show()"
   ]
  },
  {
   "cell_type": "markdown",
   "metadata": {},
   "source": [
    "REPORT:\n",
    "Here we are minimzing function but we have local minima at x2+y2 = 1 so we update step size accordingly"
   ]
  },
  {
   "cell_type": "markdown",
   "metadata": {},
   "source": [
    "q3 ) 2 Use Polyak’s momentum method to minimize f(x, y). Show contour plot\n",
    "of the function. After every update, using arrow show the movement in\n",
    "the contour plots. Do it till convergence"
   ]
  },
  {
   "cell_type": "code",
   "execution_count": null,
   "metadata": {},
   "outputs": [],
   "source": [
    "import numpy as np\n",
    "import matplotlib.pyplot as plt\n",
    "\n",
    "n_x = 0.003\n",
    "n_y = 0.003\n",
    "be = 0.9\n",
    "def func(x,y):\n",
    "    a = x**2\n",
    "    b = 100*(y-x**2)**2\n",
    "    return a+b\n",
    "\n",
    "def grad_desc(x,y):\n",
    "    a = (150*(x**2+y**2)**2 - 209*(x**2+y**2)+59)\n",
    "    return a*(2*x)/9\n",
    "\n",
    "def grad_descy(x,y):\n",
    "    b =  (150*(x**2+y**2)**2 - 209*(x**2+y**2)+59)\n",
    "    return b*(2*y)/9\n",
    "\n",
    "x = np.random.rand()\n",
    "y = np.random.rand()\n",
    "x_prev = np.random.rand()\n",
    "y_prev = np.random.rand()\n",
    "x_curr = np.random.rand()\n",
    "y_curr = np.random.rand()\n",
    "valx = []\n",
    "valy = []\n",
    "\n",
    "i = 0\n",
    "for i in range(0,2000):\n",
    "  x_prev = x\n",
    "  y_prev = y\n",
    "  x = x-n_x*grad_desc(x,y)+be*(x_prev-x_curr)\n",
    "  y = y-n_y*grad_descy(x,y)+be*(x_prev-x_curr)\n",
    "  x_curr = x\n",
    "  y_curr = y\n",
    " \n",
    "  i = i+1\n",
    "  if(x_curr == x):\n",
    "     n_x = 0.1*n_x\n",
    "  if(y_curr == y):\n",
    "     n_y = 0.5*n_y\n",
    "  \n",
    "  \n",
    "  #print(x,y,i)\n",
    "  if(x < 0.001 and y <0.001):\n",
    "        break\n",
    "  \n",
    "  plt.arrow(x_prev, y_prev, x-x_prev,y-y_prev, ec ='red', width = 0.01,head_width = 0.1)\n",
    " \n",
    "\n",
    "meshx = np.linspace(-4, 4.0, 100)\n",
    "meshy = np.linspace(-4, 4.0, 100)\n",
    "  \n",
    "\n",
    "[FX, FY] = np.meshgrid(meshx, meshy)\n",
    "  \n",
    "\n",
    "FIN = (50*(FX**2 + FY**2)**3)/9 - (209*(FX**2 + FY**2)**2)/18 +59*(FX**2 + FY**2)/9\n",
    "  \n",
    "plt.contour(FX,FY,FIN,cmap='ocean')\n",
    "\n",
    "plt.show()"
   ]
  },
  {
   "cell_type": "markdown",
   "metadata": {},
   "source": [
    "Here we it minimizes in lesser epoch than previous methods"
   ]
  },
  {
   "cell_type": "markdown",
   "metadata": {},
   "source": [
    "q3) 3Minimize f(x, y) using Nesterov accelerated gradient descent. Show contour plot of the function. After every update, using arrow show the movement in the contour plots. Do it till convergence"
   ]
  },
  {
   "cell_type": "code",
   "execution_count": null,
   "metadata": {},
   "outputs": [],
   "source": [
    "import numpy as np\n",
    "import matplotlib.pyplot as plt\n",
    "\n",
    "n_x = 0.003\n",
    "n_y = 0.003\n",
    "be = 0.9\n",
    "def func(x,y):\n",
    "    a = x**2\n",
    "    b = 100*(y-x**2)**2\n",
    "    return a+b\n",
    "\n",
    "def grad_desc(x,y):\n",
    "    a = (150*(x**2+y**2)**2 - 209*(x**2+y**2)+59)\n",
    "    return a*(2*x)/9\n",
    "\n",
    "def grad_descy(x,y):\n",
    "    b =  (150*(x**2+y**2)**2 - 209*(x**2+y**2)+59)\n",
    "    return b*(2*y)/9\n",
    "\n",
    "x = np.random.rand()\n",
    "y = np.random.rand()\n",
    "x_prev = np.random.rand()\n",
    "y_prev = np.random.rand()\n",
    "x_curr = np.random.rand()\n",
    "y_curr = np.random.rand()\n",
    "valx = []\n",
    "valy = []\n",
    "\n",
    "i = 0\n",
    "for i in range(0,2000):\n",
    "  x_prev = x\n",
    "  y_prev = y\n",
    "  x= x-n*grad_desc(x_prev+be*(x_prev-x_curr),y_prev+be*(y_prev-y_curr))+be*(x_prev-x_curr)\n",
    "  y= y-n*grad_descy(x_prev+be*(x_prev-x_curr),y_prev+be*(y_prev-y_curr))+be*(y_prev-y_curr)\n",
    "  x_curr = x\n",
    "  y_curr = y\n",
    "  \n",
    "  i = i+1\n",
    "  if(x_curr == x):\n",
    "     n_x = 0.1*n_x\n",
    "  if(y_curr == y):\n",
    "     n_y = 0.5*n_y\n",
    "  \n",
    "  \n",
    "  #print(x,y,i)\n",
    "  if(x < 0.001 and y <0.001):\n",
    "        break\n",
    "  \n",
    "  plt.arrow(x_prev, y_prev, x-x_prev,y-y_prev, ec ='red', width = 0.01,head_width = 0.1)\n",
    " \n",
    "\n",
    "meshx = np.linspace(-4, 4.0, 100)\n",
    "meshy = np.linspace(-4, 4.0, 100)\n",
    "  \n",
    "\n",
    "[FX, FY] = np.meshgrid(meshx, meshy)\n",
    "  \n",
    "\n",
    "FIN = (50*(FX**2 + FY**2)**3)/9 - (209*(FX**2 + FY**2)**2)/18 +59*(FX**2 + FY**2)/9\n",
    "  \n",
    "plt.contour(FX,FY,FIN,cmap='ocean')\n",
    "\n",
    "plt.show()"
   ]
  },
  {
   "cell_type": "markdown",
   "metadata": {},
   "source": [
    "Here it converges even faster than previous methods"
   ]
  }
 ],
 "metadata": {
  "kernelspec": {
   "display_name": "Python 3.9.5 64-bit",
   "language": "python",
   "name": "python3"
  },
  "language_info": {
   "codemirror_mode": {
    "name": "ipython",
    "version": 3
   },
   "file_extension": ".py",
   "mimetype": "text/x-python",
   "name": "python",
   "nbconvert_exporter": "python",
   "pygments_lexer": "ipython3",
   "version": "3.9.5"
  },
  "orig_nbformat": 4,
  "vscode": {
   "interpreter": {
    "hash": "5addf786bcd861d1ce5006f23111f8cbb206731e5b61b0a5632ba9e0252558a8"
   }
  }
 },
 "nbformat": 4,
 "nbformat_minor": 2
}
