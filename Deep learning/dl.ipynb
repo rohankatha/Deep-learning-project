{
 "cells": [
  {
   "cell_type": "markdown",
   "metadata": {},
   "source": [
    "q1) Consider learning a linear regression function (without bias term). Thus,there are 2 parameters only. Assuming squared error loss function, write the objective function J to be minimized"
   ]
  },
  {
   "cell_type": "code",
   "execution_count": 5,
   "metadata": {},
   "outputs": [],
   "source": [
    "import numpy as np\n",
    "import matplotlib.pyplot as plt\n",
    "\n",
    "# Generating random integers\n",
    "a_test = np.random.randint(low=-4,high=4,size=(400,2))\n",
    "# Generating normal values\n",
    "b_test = np.random.normal(loc = 0,scale = 0.1,size=400)\n",
    "# Predicted values\n",
    "y_test =  2*a_test[:,0]+3*a_test[:,1]+b_test\n",
    "def costfunc(first,second):\n",
    "  \n",
    "  \n",
    "  var = []\n",
    "  for i in a_test:\n",
    "    var.append(first*i[0]+second*i[1])\n",
    "  var2 = []\n",
    "  for i in range(0,400):\n",
    "    var2.append((var[i]-y_test[i])**2)\n",
    "    \n",
    "  J = np.mean(var2)\n",
    "  return J"
   ]
  },
  {
   "cell_type": "markdown",
   "metadata": {},
   "source": [
    "REPORT:\n",
    "Mse is calculated from formula MSE = 1/n*|y-y^|^2"
   ]
  },
  {
   "cell_type": "markdown",
   "metadata": {},
   "source": [
    "q1) 2) Plot the error curve with respect to the parameters for this problem."
   ]
  },
  {
   "cell_type": "code",
   "execution_count": null,
   "metadata": {},
   "outputs": [],
   "source": [
    "fin = []\n",
    "x = []\n",
    "gen = np.arange(-5, 5, 0.5, dtype=int)\n",
    "gen2 = np.arange(-5, 5, 0.5, dtype=int)\n",
    "\n",
    "for i in gen:\n",
    "    fin.append(costfunc(gen[i],gen2[i]))\n",
    "\n",
    "for i in range(0,20):\n",
    "    x.append(i)\n",
    "\n",
    "plt.plot(x,fin)\n",
    "plt.show()"
   ]
  },
  {
   "cell_type": "markdown",
   "metadata": {},
   "source": [
    "REPORT : \n",
    "This curve represents variation of mse with epochs as weights are getting trained this curve has minima at certain point indicating mse is minimized "
   ]
  },
  {
   "cell_type": "markdown",
   "metadata": {},
   "source": [
    "q1) 3. Consider minimizing J using gradient descent with constant step size.\n",
    "Calculate the optimum learning rate ηopt"
   ]
  },
  {
   "cell_type": "code",
   "execution_count": 7,
   "metadata": {},
   "outputs": [],
   "source": [
    "import numpy as np\n",
    "import matplotlib.pyplot as plt\n",
    "# Generate data\n",
    "a_test = np.random.randn(400,2)\n",
    "b_test = np.random.normal(loc = 0,scale = 0.1,size=400)\n",
    "y_test =  2*a_test[:,0]+3*a_test[:,1]+b_test\n",
    "# Mse\n",
    "def pyfunc(first,second):\n",
    "      \n",
    "  \n",
    "  var = []\n",
    "  for i in a_test:\n",
    "    var.append(first*i[0]+second*i[1])\n",
    "  var2 = []\n",
    "  for i in range(0,400):\n",
    "    var2.append((var[i]-y_test[i])**2)\n",
    "    \n",
    "  J = np.mean(var2)/2\n",
    "  return J\n",
    "\n",
    "#grad with respect to w1\n",
    "def pyfunc1(first,second):\n",
    "  var = []\n",
    "  for i in a_test:\n",
    "    var.append(first*i[0]+second*i[1])\n",
    "  var3 = 0\n",
    "  for i in range(0,400):\n",
    "    var3 +=(var[i]-y_test[i])*(a_test[i][0]) \n",
    "    \n",
    "  return var3/400\n",
    "# grad with respect to other parameter\n",
    "def pyfunc2(first,second):\n",
    "  var = []\n",
    "  for i in a_test:\n",
    "    var.append(first*i[0]+second*i[1])\n",
    "  var3 = 0\n",
    "  for i in range(0,400):\n",
    "    var3 +=(var[i]-y_test[i])*(a_test[i][1]) \n",
    "    \n",
    "  return var3/400\n",
    "\n",
    "# initial step size\n",
    "n = 0.8\n",
    "# random initialization\n",
    "x = np.random.randint(size=1,low=0,high = 4)\n",
    "y = np.random.randint(size=1,low=0,high = 4)\n",
    "w = np.random.randint(size=(2),low = 0,high = 10)\n",
    "# caluculating hessian matrix\n",
    "val1 = np.sum(a_test[:,0]*a_test[:,0])/200\n",
    "val2 = np.sum(a_test[:,1]*a_test[:,1])/200\n",
    "val3 = np.sum(a_test[:,1]*a_test[:,0])/200\n",
    "Hessian =  np.array([[val1,val3],[val3,val2]])\n",
    "# eigen values of hessian matrix\n",
    "X = np.linalg.eigvals(np.linalg.inv(Hessian))\n",
    "\n",
    "\n",
    "# n_opt (generated from taylor series and optimizing gives hessian matrix)\n",
    "n_opt = min(X[0],X[1])*2\n",
    "\n",
    "\n"
   ]
  },
  {
   "cell_type": "markdown",
   "metadata": {},
   "source": [
    "REPORT:\n",
    "In thid question we need to find optimal step size for doing that we have to use taylor series and optimize that then we get n to be 1/hessian matrix which can be calculated from taking eigen values from Inverse hessian matrix and finding minimum of them both"
   ]
  },
  {
   "cell_type": "markdown",
   "metadata": {},
   "source": [
    "q1) 4 Plot error vs epoch"
   ]
  },
  {
   "cell_type": "code",
   "execution_count": 1,
   "metadata": {},
   "outputs": [
    {
     "data": {
      "image/png": "[encoded data removed]",
      "text/plain": [
       "<Figure size 432x288 with 4 Axes>"
      ]
     },
     "metadata": {
      "needs_background": "light"
     },
     "output_type": "display_data"
    }
   ],
   "source": [
    "import numpy as np\n",
    "import matplotlib.pyplot as plt\n",
    "# Generate data\n",
    "a_test = np.random.randn(400,2)\n",
    "b_test = np.random.normal(loc = 0,scale = 0.1,size=400)\n",
    "y_test =  2*a_test[:,0]+3*a_test[:,1]+b_test\n",
    "# Mse\n",
    "def pyfunc(first,second):\n",
    "      \n",
    "  \n",
    "  var = []\n",
    "  for i in a_test:\n",
    "    var.append(first*i[0]+second*i[1])\n",
    "  var2 = []\n",
    "  for i in range(0,400):\n",
    "    var2.append((var[i]-y_test[i])**2)\n",
    "    \n",
    "  J = np.mean(var2)/2\n",
    "  return J\n",
    "\n",
    "#grad with respect to w1\n",
    "def pyfunc1(first,second):\n",
    "  var = []\n",
    "  for i in a_test:\n",
    "    var.append(first*i[0]+second*i[1])\n",
    "  var3 = 0\n",
    "  for i in range(0,400):\n",
    "    var3 +=(var[i]-y_test[i])*(a_test[i][0]) \n",
    "    \n",
    "  return var3/400\n",
    "# grad with respect to other parameter\n",
    "def pyfunc2(first,second):\n",
    "  var = []\n",
    "  for i in a_test:\n",
    "    var.append(first*i[0]+second*i[1])\n",
    "  var3 = 0\n",
    "  for i in range(0,400):\n",
    "    var3 +=(var[i]-y_test[i])*(a_test[i][1]) \n",
    "    \n",
    "  return var3/400\n",
    "\n",
    "# initial step size\n",
    "n = 0.8\n",
    "# random initialization\n",
    "x = np.random.randint(size=1,low=0,high = 4)\n",
    "y = np.random.randint(size=1,low=0,high = 4)\n",
    "w = np.random.randint(size=(2),low = 0,high = 10)\n",
    "# caluculating hessian matrix\n",
    "val1 = np.sum(a_test[:,0]*a_test[:,0])/200\n",
    "val2 = np.sum(a_test[:,1]*a_test[:,1])/200\n",
    "val3 = np.sum(a_test[:,1]*a_test[:,0])/200\n",
    "Hessian =  np.array([[val1,val3],[val3,val2]])\n",
    "# eigen values of hessian matrix\n",
    "X = np.linalg.eigvals(np.linalg.inv(Hessian))\n",
    "\n",
    "\n",
    "# n_opt (generated from taylor series and optimizing gives hessian matrix)\n",
    "n_opt = min(X[0],X[1])*2\n",
    "n_curr = [n_opt*0.45,n_opt*0.75,n_opt,n_opt*1.5]\n",
    "for j in range(0,4):\n",
    " list_x = []\n",
    " list_y = []\n",
    " list_z = []\n",
    " list_zt = []\n",
    " i = 0\n",
    " for i in range(0,10):\n",
    "    z = pyfunc(w[0],w[1])\n",
    "    #print(w)\n",
    "    list_z.append(z)\n",
    "    list_x.append(i)\n",
    "    i = i+1\n",
    "    if(z < 0.001):\n",
    "       list_y.append(z)\n",
    "       break\n",
    "    else:\n",
    "       list_y.append(z)\n",
    "    woup = np.array([pyfunc1(w[0],w[1]), pyfunc2(w[0],w[1])])\n",
    "    #plt.arrow(w[0], w[1],n_curr*woup[0] ,n_curr*woup[1], ec ='red', width = 0.01,head_width = 0.1)\n",
    "    w = w -n_curr[j]*woup\n",
    " plt.subplot(2, 2, j+1)\n",
    " plt.plot(list_x,list_y)\n",
    "\n",
    "\n",
    "\n",
    "plt.show()\n"
   ]
  },
  {
   "cell_type": "markdown",
   "metadata": {},
   "source": [
    "REPORT:\n",
    "In this curves we can clearly see that for n_opt the function converges fastest and if n_curr is close to n_opt it converges fast"
   ]
  },
  {
   "cell_type": "markdown",
   "metadata": {},
   "source": [
    "q1 ) 4 Using contour plots show the convergence path"
   ]
  },
  {
   "cell_type": "code",
   "execution_count": 10,
   "metadata": {},
   "outputs": [
    {
     "data": {
      "image/png": "[encoded data removed]",
      "text/plain": [
       "<Figure size 432x288 with 4 Axes>"
      ]
     },
     "metadata": {
      "needs_background": "light"
     },
     "output_type": "display_data"
    }
   ],
   "source": [
    "import numpy as np\n",
    "import matplotlib.pyplot as plt\n",
    "a_test = np.random.randn(400,2)\n",
    "b_test = np.random.normal(loc = 0,scale = 0.1,size=400)\n",
    "y_test =  2*a_test[:,0]+3*a_test[:,1]+b_test\n",
    "def pyfunc(first,second):\n",
    "      \n",
    "  \n",
    "  var = []\n",
    "  for i in a_test:\n",
    "    var.append(first*i[0]+second*i[1])\n",
    "  var2 = []\n",
    "  for i in range(0,400):\n",
    "    var2.append((var[i]-y_test[i])**2)\n",
    "    \n",
    "  J = np.mean(var2)/2\n",
    "  return J\n",
    "\n",
    "\n",
    "def pyfunc1(first,second):\n",
    "  var = []\n",
    "  for i in a_test:\n",
    "    var.append(first*i[0]+second*i[1])\n",
    "  var3 = 0\n",
    "  for i in range(0,400):\n",
    "    var3 +=(var[i]-y_test[i])*(a_test[i][0]) \n",
    "    \n",
    "  return var3/400\n",
    "\n",
    "def pyfunc2(first,second):\n",
    "  var = []\n",
    "  for i in a_test:\n",
    "    var.append(first*i[0]+second*i[1])\n",
    "  var3 = 0\n",
    "  for i in range(0,400):\n",
    "    var3 +=(var[i]-y_test[i])*(a_test[i][1]) \n",
    "    \n",
    "  return var3/400\n",
    "\n",
    "\n",
    "n = 0.8\n",
    "x = np.random.randint(size=1,low=0,high = 4)\n",
    "y = np.random.randint(size=1,low=0,high = 4)\n",
    "\n",
    "val1 = np.sum(a_test[:,0]*a_test[:,0])/200\n",
    "val2 = np.sum(a_test[:,1]*a_test[:,1])/200\n",
    "val3 = np.sum(a_test[:,1]*a_test[:,0])/200\n",
    "Hessian =  np.array([[val1,val3],[val3,val2]])\n",
    "X = np.linalg.eigvals(np.linalg.inv(Hessian))\n",
    "\n",
    "\n",
    "\n",
    "n_opt = min(X[0],X[1])*2\n",
    "\n",
    "n_curr = [n_opt*0.45,n_opt*0.75,n_opt,n_opt*1.5]\n",
    "\n",
    "\n",
    "for j in range(0,4):\n",
    " list_x = []\n",
    " list_y = []\n",
    " list_z = []\n",
    " list_zt = []\n",
    " i = 0\n",
    " w = [3,5]\n",
    " for i in range(0,50):\n",
    "    z = pyfunc(w[0],w[1])\n",
    "    #print(w)\n",
    "    list_z.append(z)\n",
    "    list_x.append(i)\n",
    "    i = i+1\n",
    "    if(z < 0.001):\n",
    "       list_y.append(z)\n",
    "       break\n",
    "    else:\n",
    "       list_y.append(z)\n",
    "    woup = np.array([pyfunc1(w[0],w[1]), pyfunc2(w[0],w[1])])\n",
    "    plt.arrow(w[0], w[1],n_curr[j]*woup[0] ,n_curr[j]*woup[1], ec ='red', width = 0.1,head_width = 0.21)\n",
    "    w = w -n_curr[j]*woup\n",
    "\n",
    " w1 = np.arange(-0.5,0.5,0.1)\n",
    " w2 = np.arange(-0.5,0.5,0.1)\n",
    " [X, Y] = np.meshgrid(w1,w2)\n",
    " list_z = []\n",
    " list_zt = []\n",
    " i = 0\n",
    " for l in range(0,10):\n",
    "    list_z = []\n",
    "    for k in range(0,10):\n",
    "        list_z.append(pyfunc(w1[l],w2[k]))\n",
    "    list_zt.append(list_z)\n",
    "        \n",
    " plt.contour(list_zt,cmap = 'ocean')\n",
    " plt.subplot(2, 2, j+1)\n",
    " #plt.plot(list_x,list_y)\n",
    "\n",
    "\n",
    "#plt.plot(list_x,list_y)\n",
    "\n",
    "plt.show()\n"
   ]
  },
  {
   "cell_type": "markdown",
   "metadata": {},
   "source": [
    "REPORT:\n",
    "From contour plots we can see that for n_opt it converges faster and for other n values it converges according to step_size values"
   ]
  }
 ],
 "metadata": {
  "kernelspec": {
   "display_name": "Python 3.9.5 64-bit",
   "language": "python",
   "name": "python3"
  },
  "language_info": {
   "codemirror_mode": {
    "name": "ipython",
    "version": 3
   },
   "file_extension": ".py",
   "mimetype": "text/x-python",
   "name": "python",
   "nbconvert_exporter": "python",
   "pygments_lexer": "ipython3",
   "version": "3.9.5"
  },
  "orig_nbformat": 4,
  "vscode": {
   "interpreter": {
    "hash": "5addf786bcd861d1ce5006f23111f8cbb206731e5b61b0a5632ba9e0252558a8"
   }
  }
 },
 "nbformat": 4,
 "nbformat_minor": 2
}
