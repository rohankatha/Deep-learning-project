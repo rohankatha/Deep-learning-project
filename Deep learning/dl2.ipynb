{
 "cells": [
  {
   "cell_type": "markdown",
   "metadata": {},
   "source": [
    "q2) 1Run gradient descent with constant step size to minimize f(x, y). Show\n",
    "contour plot of the function. After every update, using arrow show the\n",
    "movement in the contour plots. Do it till convergence. "
   ]
  },
  {
   "cell_type": "code",
   "execution_count": 11,
   "metadata": {},
   "outputs": [
    {
     "data": {
      "image/png": "[encoded data removed]",
      "text/plain": [
       "<Figure size 432x288 with 1 Axes>"
      ]
     },
     "metadata": {
      "needs_background": "light"
     },
     "output_type": "display_data"
    }
   ],
   "source": [
    "import numpy as np\n",
    "\n",
    "import matplotlib.pyplot as plt\n",
    "\n",
    "# step size value\n",
    "n = 0.004\n",
    "def func(x,y):\n",
    "    a = x**2\n",
    "    b = 100*(y-x**2)**2\n",
    "    return a+b\n",
    "# grad desc in x\n",
    "def grad_desc(x,y):\n",
    "    a = (2*x + 400*(y-x**2)*x)\n",
    "    return a\n",
    "#grad desc in y\n",
    "def grad_descy(x,y):\n",
    "    b = (200*(y-x**2))\n",
    "    return b\n",
    "# random initialization\n",
    "x = np.random.rand()\n",
    "y = np.random.rand()\n",
    "valx = []\n",
    "valy = []\n",
    "\n",
    "i = 0\n",
    "while(True):\n",
    "  a = x\n",
    "  x = x-n*grad_desc(x,y)\n",
    "  b = y\n",
    "  i = i+1\n",
    "  y = y-n*grad_descy(x,y)\n",
    "  if(x < 0.001 and y <0.001):\n",
    "        break\n",
    "  #print(x,y,i)\n",
    "  plt.arrow(a, b, x-a,y-b, ec ='red', width = 0.1,head_width = 0.1)\n",
    "\n",
    " \n",
    "\n",
    "meshx = np.linspace(-4, 4.0, 100)\n",
    "meshy = np.linspace(-4, 4.0, 100)\n",
    "  \n",
    "\n",
    "[FX, FY] = np.meshgrid(meshx, meshy)\n",
    "  \n",
    "\n",
    "FIN = FX**2 +100*(FY-FX**2)**2\n",
    "  \n",
    "plt.contour(FX,FY,FIN,cmap='ocean')\n",
    "\n",
    "\n",
    "\n",
    "plt.show()"
   ]
  },
  {
   "cell_type": "markdown",
   "metadata": {},
   "source": [
    "REPORT:\n",
    "Here we can see that because of gradient descent the function is minimized and is converginf towards its minima"
   ]
  },
  {
   "cell_type": "markdown",
   "metadata": {},
   "source": [
    "q2) 2Use gradient descent with Polyak’s momentum method to minimize f(x, y).Show contour plot of the function. After every update, using arrow show\n",
    "the movement in the contour plots. Do it till convergence. "
   ]
  },
  {
   "cell_type": "code",
   "execution_count": null,
   "metadata": {},
   "outputs": [],
   "source": [
    "import matplotlib.pyplot as plt\n",
    "\n",
    "n = 0.004\n",
    "be = 0.9\n",
    "def func(x,y):\n",
    "    a = x**2\n",
    "    b = 100*(y-x**2)**2\n",
    "    return a+b\n",
    "\n",
    "def grad_desc(x,y):\n",
    "    a = (2*x + 400*(y-x**2)*x)\n",
    "    return a\n",
    "\n",
    "def grad_descy(x,y):\n",
    "    b = (200*(y-x**2))\n",
    "    return b\n",
    "\n",
    "x = np.random.rand()\n",
    "y = np.random.rand()\n",
    "x_prev = np.random.rand()\n",
    "y_prev = np.random.rand()\n",
    "x_curr = np.random.rand()\n",
    "y_curr = np.random.rand()\n",
    "i = 0\n",
    "while(True):\n",
    "  x_prev = x\n",
    "  y_prev = y\n",
    "  i = i+1\n",
    "  x= x-n*grad_desc(x_prev,y_prev)+be*(x_prev-x_curr)\n",
    "  y= y-n*grad_descy(x_prev,y_prev)+be*(y_prev-y_curr)\n",
    "  x_curr = x\n",
    "  y_curr = y\n",
    "  if(x_curr< 0.001 and y_curr <0.001):\n",
    "        break\n",
    "  #print(x,y,i)\n",
    "  plt.arrow(x_prev, y_prev, x-x_prev,y-y_prev, ec ='red', width = 0.01,head_width = 0.1)\n",
    "\n",
    "\n",
    "meshx = np.linspace(-4, 4.0, 100)\n",
    "meshy = np.linspace(-4, 4.0, 100)\n",
    "  \n",
    "\n",
    "[FX, FY] = np.meshgrid(meshx, meshy)\n",
    "  \n",
    "\n",
    "FIN = FX**2 +100*(FY-FX**2)**2\n",
    "  \n",
    "plt.contour(FX,FY,FIN,cmap='ocean')\n",
    "\n",
    "\n",
    "\n",
    "plt.show()\n",
    "  \n",
    " \n",
    "\n"
   ]
  },
  {
   "cell_type": "markdown",
   "metadata": {},
   "source": [
    "REPORT:\n",
    "Here the function is converging towards its minima and also it is happening faster than the previous method"
   ]
  },
  {
   "cell_type": "markdown",
   "metadata": {},
   "source": [
    "q2 3 Minimize f(x, y) using Nesterov accelerated gradient descent. Show contour plot of the function. After every update, using arrow show the movement in the contour plots. Do it till convergence. ["
   ]
  },
  {
   "cell_type": "code",
   "execution_count": null,
   "metadata": {},
   "outputs": [],
   "source": [
    "import numpy as np\n",
    "\n",
    "import matplotlib.pyplot as plt\n",
    "\n",
    "n = 0.004\n",
    "be = 0.9\n",
    "def func(x,y):\n",
    "    a = x**2\n",
    "    b = 100*(y-x**2)**2\n",
    "    return a+b\n",
    "\n",
    "def grad_desc(x,y):\n",
    "    a = (2*x + 400*(y-x**2)*x)\n",
    "    return a\n",
    "\n",
    "def grad_descy(x,y):\n",
    "    b = (200*(y-x**2))\n",
    "    return b\n",
    "\n",
    "x = np.random.rand()\n",
    "y = np.random.rand()\n",
    "x_prev = np.random.rand()\n",
    "y_prev = np.random.rand()\n",
    "x_curr = np.random.rand()\n",
    "y_curr = np.random.rand()\n",
    "i = 0\n",
    "while(True):\n",
    "  x_prev = x\n",
    "  y_prev = y\n",
    "  i = i+1\n",
    "  x= x-n*grad_desc(x_prev+be*(x_prev-x_curr),y_prev+be*(y_prev-y_curr))+be*(x_prev-x_curr)\n",
    "  y= y-n*grad_descy(x_prev+be*(x_prev-x_curr),y_prev+be*(y_prev-y_curr))+be*(y_prev-y_curr)\n",
    "  x_curr = x\n",
    "  y_curr = y\n",
    "  if(x_curr< 0.001 and y_curr <0.001):\n",
    "        break\n",
    "  #print(x,y,i)\n",
    "  plt.arrow(x_prev, y_prev, x-x_prev,y-y_prev, ec ='red', width = 0.01,head_width = 0.1)\n",
    "\n",
    "meshx = np.linspace(-4, 4.0, 100)\n",
    "meshy = np.linspace(-4, 4.0, 100)\n",
    "  \n",
    "\n",
    "[FX, FY] = np.meshgrid(meshx, meshy)\n",
    "  \n",
    "\n",
    "FIN = FX**2 +100*(FY-FX**2)**2\n",
    "  \n",
    "plt.contour(FX,FY,FIN,cmap='ocean')\n",
    "\n",
    "\n",
    "\n",
    "plt.show()"
   ]
  },
  {
   "cell_type": "markdown",
   "metadata": {},
   "source": [
    "REPORT:\n",
    "Here also the function is converging towards minima but it is happening in leesser epochs than previous two methods"
   ]
  }
 ],
 "metadata": {
  "kernelspec": {
   "display_name": "Python 3.9.5 64-bit",
   "language": "python",
   "name": "python3"
  },
  "language_info": {
   "codemirror_mode": {
    "name": "ipython",
    "version": 3
   },
   "file_extension": ".py",
   "mimetype": "text/x-python",
   "name": "python",
   "nbconvert_exporter": "python",
   "pygments_lexer": "ipython3",
   "version": "3.9.5"
  },
  "orig_nbformat": 4,
  "vscode": {
   "interpreter": {
    "hash": "5addf786bcd861d1ce5006f23111f8cbb206731e5b61b0a5632ba9e0252558a8"
   }
  }
 },
 "nbformat": 4,
 "nbformat_minor": 2
}
